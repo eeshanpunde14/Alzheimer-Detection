{
 "cells": [
  {
   "cell_type": "code",
   "execution_count": 1,
   "id": "fdbadb2f-1d33-47f6-9086-aea683bbee02",
   "metadata": {},
   "outputs": [],
   "source": [
    "import gradio as gr\n",
    "import tensorflow as tf\n",
    "from tensorflow.keras.preprocessing import image\n",
    "from tensorflow.keras.preprocessing.image import ImageDataGenerator, load_img\n",
    "\n",
    "import PIL \n",
    "from tensorflow.keras.utils import load_img\n",
    "from tensorflow.keras.utils import img_to_array\n",
    "from keras.applications.imagenet_utils import decode_predictions \n",
    "import matplotlib.pyplot as plt \n",
    "import numpy as np \n",
    "from tensorflow.keras.applications.resnet50 import ResNet50\n"
   ]
  },
  {
   "cell_type": "code",
   "execution_count": 2,
   "id": "cb970596-db77-43b3-8053-2e6509047734",
   "metadata": {},
   "outputs": [],
   "source": [
    "new_model =tf.keras.models.load_model(\n",
    "    'C:\\\\Users\\\\eesha\\\\Desktop\\\\Alz Detection\\\\archive (1)\\\\Alz_classifier2\\\\SavedModel2.h5', custom_objects=None, compile=True, options=None\n",
    ")\n"
   ]
  },
  {
   "cell_type": "code",
   "execution_count": 3,
   "id": "834793da-6138-4ee1-b397-770b7461de9e",
   "metadata": {},
   "outputs": [],
   "source": [
    "def predict_image(inp):\n",
    "    # inp = inp.reshape(224, 224)\n",
    "    numpy_image = img_to_array(inp)\n",
    "    image_batch = np.expand_dims(numpy_image, axis = 0) \n",
    "    processed_image = tf.keras.applications.resnet50.preprocess_input(image_batch, data_format=None)\n",
    "    predictions = new_model.predict(processed_image)\n",
    "\n",
    "    return np.argmax(predictions)"
   ]
  },
  {
   "cell_type": "code",
   "execution_count": 5,
   "id": "be80f1b0-8c0d-41b6-8e46-90b64aeb59b2",
   "metadata": {},
   "outputs": [],
   "source": [
    "def same_auth(username, password):\n",
    "    return username == password\n",
    "# demo.launch(auth=same_auth)"
   ]
  },
  {
   "cell_type": "code",
   "execution_count": 6,
   "id": "77fea280-466e-49b5-b571-c5e4db540de5",
   "metadata": {},
   "outputs": [
    {
     "name": "stderr",
     "output_type": "stream",
     "text": [
      "C:\\Users\\eesha\\anaconda3\\lib\\site-packages\\gradio\\inputs.py:257: UserWarning: Usage of gradio.inputs is deprecated, and will not be supported in the future, please import your component from gradio.components\n",
      "  warnings.warn(\n",
      "C:\\Users\\eesha\\anaconda3\\lib\\site-packages\\gradio\\deprecation.py:40: UserWarning: `optional` parameter is deprecated, and it has no effect\n",
      "  warnings.warn(value)\n"
     ]
    },
    {
     "name": "stdout",
     "output_type": "stream",
     "text": [
      "Running on local URL:  http://127.0.0.1:7888\n",
      "Running on public URL: https://938802d8386042444b.gradio.live\n",
      "\n",
      "This share link expires in 72 hours. For free permanent hosting and GPU upgrades (NEW!), check out Spaces: https://huggingface.co/spaces\n"
     ]
    }
   ],
   "source": [
    "image = gr.inputs.Image(shape=(224,224))\n",
    "# label = gr.outputs.Label(num_top_classes=4)\n",
    "\n",
    "# gr.Interface(fn=predict_image, inputs=image, outputs=\"text\",interpretation='default').launch(debug='True')\n",
    "\n",
    "demo = gr.Interface(fn=predict_image, inputs=image, outputs=\"text\", allow_flagging = 'never')\n",
    "    \n",
    "if __name__ == \"__main__\":\n",
    "    demo.launch(auth = ('user','admin'), auth_message= \"Enter your username and password\", share=True)"
   ]
  },
  {
   "cell_type": "code",
   "execution_count": null,
   "id": "e6b68962-2223-4a9f-8e84-99d6c0803960",
   "metadata": {},
   "outputs": [],
   "source": []
  },
  {
   "cell_type": "code",
   "execution_count": null,
   "id": "d9e85b81-ae15-4ca0-9876-a4d6a09f150f",
   "metadata": {},
   "outputs": [],
   "source": []
  },
  {
   "cell_type": "code",
   "execution_count": null,
   "id": "a8584f25-0a99-43f5-9aa9-fd00ce6c735c",
   "metadata": {},
   "outputs": [],
   "source": []
  },
  {
   "cell_type": "code",
   "execution_count": null,
   "id": "c9dadf2a-7356-44ad-ab43-2a4f7dd9d07a",
   "metadata": {},
   "outputs": [],
   "source": []
  }
 ],
 "metadata": {
  "kernelspec": {
   "display_name": "Python 3 (ipykernel)",
   "language": "python",
   "name": "python3"
  },
  "language_info": {
   "codemirror_mode": {
    "name": "ipython",
    "version": 3
   },
   "file_extension": ".py",
   "mimetype": "text/x-python",
   "name": "python",
   "nbconvert_exporter": "python",
   "pygments_lexer": "ipython3",
   "version": "3.9.13"
  }
 },
 "nbformat": 4,
 "nbformat_minor": 5
}
